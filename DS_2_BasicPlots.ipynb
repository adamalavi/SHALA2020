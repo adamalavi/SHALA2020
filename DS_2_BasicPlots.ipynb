{
  "nbformat": 4,
  "nbformat_minor": 0,
  "metadata": {
    "colab": {
      "name": "Assignment_2_DS.ipynb",
      "provenance": [],
      "collapsed_sections": [],
      "include_colab_link": true
    },
    "kernelspec": {
      "name": "python3",
      "display_name": "Python 3"
    }
  },
  "cells": [
    {
      "cell_type": "markdown",
      "metadata": {
        "id": "view-in-github",
        "colab_type": "text"
      },
      "source": [
        "<a href=\"https://colab.research.google.com/github/adamalavi/SHALA2020/blob/master/Assignment_2_DS.ipynb\" target=\"_parent\"><img src=\"https://colab.research.google.com/assets/colab-badge.svg\" alt=\"Open In Colab\"/></a>"
      ]
    },
    {
      "cell_type": "markdown",
      "metadata": {
        "id": "1X6ddOR8HFsX",
        "colab_type": "text"
      },
      "source": [
        "\n",
        "# **Assignment - 2: Basic Data Understanding**\n",
        "\n",
        "---\n",
        "\n",
        "This assignment will get you familiarized with Python libraries and  functions required for data visualization."
      ]
    },
    {
      "cell_type": "markdown",
      "metadata": {
        "id": "XRd4EfXN5fQb",
        "colab_type": "text"
      },
      "source": [
        "---\n",
        "## Part 1 - Loading data \n",
        "---"
      ]
    },
    {
      "cell_type": "markdown",
      "metadata": {
        "id": "Q7W6I-fVIoqp",
        "colab_type": "text"
      },
      "source": [
        "###Import the following libraries:  \n",
        "\n",
        "* ```numpy``` with an alias name ```np```, \n",
        "* ```pandas``` with an alias name ```pd```, \n",
        "* ```matplotlib.pyplot``` with an alias name ```plt```, and \n",
        "* ```seaborn``` with an alias name ```sns```. "
      ]
    },
    {
      "cell_type": "code",
      "metadata": {
        "id": "NihF3MwIGI4m",
        "colab_type": "code",
        "colab": {}
      },
      "source": [
        "# Load the four libraries with their aliases \n",
        "import numpy as np\n",
        "import pandas as pd\n",
        "import matplotlib.pyplot as plt\n",
        "import seaborn as sns"
      ],
      "execution_count": 0,
      "outputs": []
    },
    {
      "cell_type": "markdown",
      "metadata": {
        "id": "dsLj-TSQJgMb",
        "colab_type": "text"
      },
      "source": [
        "### Using the files ```train.csv``` and ```moviesData.csv```,  peform the following:\n",
        "\n",
        "* Load these file as ```pandas``` dataframes and store it in variables named ```df``` and ```movies``` respectively. \n",
        "* Print the first ten rows of ```df```. \n",
        "\n"
      ]
    },
    {
      "cell_type": "code",
      "metadata": {
        "id": "3AjvT40AGIq6",
        "colab_type": "code",
        "colab": {}
      },
      "source": [
        "# Load the file as a dataframe \n",
        "train_url = \"https://raw.githubusercontent.com/shala2020/shala2020.github.io/master/Lecture_Materials/Assignments/DataScience/L2/train.csv\"\n",
        "movies_url = \"https://raw.githubusercontent.com/shala2020/shala2020.github.io/master/Lecture_Materials/Assignments/DataScience/L2/moviesData.csv\"\n",
        "df = pd.read_csv(train_url)\n",
        "movies = pd.read_csv(movies_url)"
      ],
      "execution_count": 0,
      "outputs": []
    },
    {
      "cell_type": "code",
      "metadata": {
        "id": "7eCo7WlMGMkn",
        "colab_type": "code",
        "outputId": "c13cab0b-c161-4ebb-8032-85175151d0f5",
        "colab": {
          "base_uri": "https://localhost:8080/",
          "height": 531
        }
      },
      "source": [
        "# Print the first ten rows of df\n",
        "df.head(10)"
      ],
      "execution_count": 97,
      "outputs": [
        {
          "output_type": "execute_result",
          "data": {
            "text/html": [
              "<div>\n",
              "<style scoped>\n",
              "    .dataframe tbody tr th:only-of-type {\n",
              "        vertical-align: middle;\n",
              "    }\n",
              "\n",
              "    .dataframe tbody tr th {\n",
              "        vertical-align: top;\n",
              "    }\n",
              "\n",
              "    .dataframe thead th {\n",
              "        text-align: right;\n",
              "    }\n",
              "</style>\n",
              "<table border=\"1\" class=\"dataframe\">\n",
              "  <thead>\n",
              "    <tr style=\"text-align: right;\">\n",
              "      <th></th>\n",
              "      <th>Age</th>\n",
              "      <th>Attrition</th>\n",
              "      <th>BusinessTravel</th>\n",
              "      <th>DailyRate</th>\n",
              "      <th>Department</th>\n",
              "      <th>DistanceFromHome</th>\n",
              "      <th>Education</th>\n",
              "      <th>EducationField</th>\n",
              "      <th>EmployeeCount</th>\n",
              "      <th>EmployeeNumber</th>\n",
              "      <th>EnvironmentSatisfaction</th>\n",
              "      <th>Gender</th>\n",
              "      <th>HourlyRate</th>\n",
              "      <th>JobInvolvement</th>\n",
              "      <th>JobLevel</th>\n",
              "      <th>JobRole</th>\n",
              "      <th>JobSatisfaction</th>\n",
              "      <th>MaritalStatus</th>\n",
              "      <th>MonthlyIncome</th>\n",
              "      <th>MonthlyRate</th>\n",
              "      <th>NumCompaniesWorked</th>\n",
              "      <th>OverTime</th>\n",
              "      <th>PercentSalaryHike</th>\n",
              "      <th>PerformanceRating</th>\n",
              "      <th>RelationshipSatisfaction</th>\n",
              "      <th>StockOptionLevel</th>\n",
              "      <th>TotalWorkingYears</th>\n",
              "      <th>TrainingTimesLastYear</th>\n",
              "      <th>WorkLifeBalance</th>\n",
              "      <th>YearsAtCompany</th>\n",
              "      <th>YearsInCurrentRole</th>\n",
              "      <th>YearsSinceLastPromotion</th>\n",
              "      <th>YearsWithCurrManager</th>\n",
              "      <th>ID</th>\n",
              "    </tr>\n",
              "  </thead>\n",
              "  <tbody>\n",
              "    <tr>\n",
              "      <th>0</th>\n",
              "      <td>41</td>\n",
              "      <td>1</td>\n",
              "      <td>Travel_Rarely</td>\n",
              "      <td>1102</td>\n",
              "      <td>Sales</td>\n",
              "      <td>1</td>\n",
              "      <td>2</td>\n",
              "      <td>Life Sciences</td>\n",
              "      <td>1</td>\n",
              "      <td>1</td>\n",
              "      <td>2</td>\n",
              "      <td>Female</td>\n",
              "      <td>94</td>\n",
              "      <td>3</td>\n",
              "      <td>2</td>\n",
              "      <td>Sales Executive</td>\n",
              "      <td>4</td>\n",
              "      <td>Single</td>\n",
              "      <td>5993</td>\n",
              "      <td>19479</td>\n",
              "      <td>8</td>\n",
              "      <td>Yes</td>\n",
              "      <td>11</td>\n",
              "      <td>3</td>\n",
              "      <td>1</td>\n",
              "      <td>0</td>\n",
              "      <td>8</td>\n",
              "      <td>0</td>\n",
              "      <td>1</td>\n",
              "      <td>6</td>\n",
              "      <td>4</td>\n",
              "      <td>0</td>\n",
              "      <td>5</td>\n",
              "      <td>0</td>\n",
              "    </tr>\n",
              "    <tr>\n",
              "      <th>1</th>\n",
              "      <td>49</td>\n",
              "      <td>0</td>\n",
              "      <td>Travel_Frequently</td>\n",
              "      <td>279</td>\n",
              "      <td>Research &amp; Development</td>\n",
              "      <td>8</td>\n",
              "      <td>1</td>\n",
              "      <td>Life Sciences</td>\n",
              "      <td>1</td>\n",
              "      <td>2</td>\n",
              "      <td>3</td>\n",
              "      <td>Male</td>\n",
              "      <td>61</td>\n",
              "      <td>2</td>\n",
              "      <td>2</td>\n",
              "      <td>Research Scientist</td>\n",
              "      <td>2</td>\n",
              "      <td>Married</td>\n",
              "      <td>5130</td>\n",
              "      <td>24907</td>\n",
              "      <td>1</td>\n",
              "      <td>No</td>\n",
              "      <td>23</td>\n",
              "      <td>4</td>\n",
              "      <td>4</td>\n",
              "      <td>1</td>\n",
              "      <td>10</td>\n",
              "      <td>3</td>\n",
              "      <td>3</td>\n",
              "      <td>10</td>\n",
              "      <td>7</td>\n",
              "      <td>1</td>\n",
              "      <td>7</td>\n",
              "      <td>1</td>\n",
              "    </tr>\n",
              "    <tr>\n",
              "      <th>2</th>\n",
              "      <td>37</td>\n",
              "      <td>1</td>\n",
              "      <td>Travel_Rarely</td>\n",
              "      <td>1373</td>\n",
              "      <td>Research &amp; Development</td>\n",
              "      <td>2</td>\n",
              "      <td>2</td>\n",
              "      <td>Other</td>\n",
              "      <td>1</td>\n",
              "      <td>4</td>\n",
              "      <td>4</td>\n",
              "      <td>Male</td>\n",
              "      <td>92</td>\n",
              "      <td>2</td>\n",
              "      <td>1</td>\n",
              "      <td>Laboratory Technician</td>\n",
              "      <td>3</td>\n",
              "      <td>Single</td>\n",
              "      <td>2090</td>\n",
              "      <td>2396</td>\n",
              "      <td>6</td>\n",
              "      <td>Yes</td>\n",
              "      <td>15</td>\n",
              "      <td>3</td>\n",
              "      <td>2</td>\n",
              "      <td>0</td>\n",
              "      <td>7</td>\n",
              "      <td>3</td>\n",
              "      <td>3</td>\n",
              "      <td>0</td>\n",
              "      <td>0</td>\n",
              "      <td>0</td>\n",
              "      <td>0</td>\n",
              "      <td>2</td>\n",
              "    </tr>\n",
              "    <tr>\n",
              "      <th>3</th>\n",
              "      <td>33</td>\n",
              "      <td>0</td>\n",
              "      <td>Travel_Frequently</td>\n",
              "      <td>1392</td>\n",
              "      <td>Research &amp; Development</td>\n",
              "      <td>3</td>\n",
              "      <td>4</td>\n",
              "      <td>Life Sciences</td>\n",
              "      <td>1</td>\n",
              "      <td>5</td>\n",
              "      <td>4</td>\n",
              "      <td>Female</td>\n",
              "      <td>56</td>\n",
              "      <td>3</td>\n",
              "      <td>1</td>\n",
              "      <td>Research Scientist</td>\n",
              "      <td>3</td>\n",
              "      <td>Married</td>\n",
              "      <td>2909</td>\n",
              "      <td>23159</td>\n",
              "      <td>1</td>\n",
              "      <td>Yes</td>\n",
              "      <td>11</td>\n",
              "      <td>3</td>\n",
              "      <td>3</td>\n",
              "      <td>0</td>\n",
              "      <td>8</td>\n",
              "      <td>3</td>\n",
              "      <td>3</td>\n",
              "      <td>8</td>\n",
              "      <td>7</td>\n",
              "      <td>3</td>\n",
              "      <td>0</td>\n",
              "      <td>3</td>\n",
              "    </tr>\n",
              "    <tr>\n",
              "      <th>4</th>\n",
              "      <td>27</td>\n",
              "      <td>0</td>\n",
              "      <td>Travel_Rarely</td>\n",
              "      <td>591</td>\n",
              "      <td>Research &amp; Development</td>\n",
              "      <td>2</td>\n",
              "      <td>1</td>\n",
              "      <td>Medical</td>\n",
              "      <td>1</td>\n",
              "      <td>7</td>\n",
              "      <td>1</td>\n",
              "      <td>Male</td>\n",
              "      <td>40</td>\n",
              "      <td>3</td>\n",
              "      <td>1</td>\n",
              "      <td>Laboratory Technician</td>\n",
              "      <td>2</td>\n",
              "      <td>Married</td>\n",
              "      <td>3468</td>\n",
              "      <td>16632</td>\n",
              "      <td>9</td>\n",
              "      <td>No</td>\n",
              "      <td>12</td>\n",
              "      <td>3</td>\n",
              "      <td>4</td>\n",
              "      <td>1</td>\n",
              "      <td>6</td>\n",
              "      <td>3</td>\n",
              "      <td>3</td>\n",
              "      <td>2</td>\n",
              "      <td>2</td>\n",
              "      <td>2</td>\n",
              "      <td>2</td>\n",
              "      <td>4</td>\n",
              "    </tr>\n",
              "    <tr>\n",
              "      <th>5</th>\n",
              "      <td>32</td>\n",
              "      <td>0</td>\n",
              "      <td>Travel_Frequently</td>\n",
              "      <td>1005</td>\n",
              "      <td>Research &amp; Development</td>\n",
              "      <td>2</td>\n",
              "      <td>2</td>\n",
              "      <td>Life Sciences</td>\n",
              "      <td>1</td>\n",
              "      <td>8</td>\n",
              "      <td>4</td>\n",
              "      <td>Male</td>\n",
              "      <td>79</td>\n",
              "      <td>3</td>\n",
              "      <td>1</td>\n",
              "      <td>Laboratory Technician</td>\n",
              "      <td>4</td>\n",
              "      <td>Single</td>\n",
              "      <td>3068</td>\n",
              "      <td>11864</td>\n",
              "      <td>0</td>\n",
              "      <td>No</td>\n",
              "      <td>13</td>\n",
              "      <td>3</td>\n",
              "      <td>3</td>\n",
              "      <td>0</td>\n",
              "      <td>8</td>\n",
              "      <td>2</td>\n",
              "      <td>2</td>\n",
              "      <td>7</td>\n",
              "      <td>7</td>\n",
              "      <td>3</td>\n",
              "      <td>6</td>\n",
              "      <td>5</td>\n",
              "    </tr>\n",
              "    <tr>\n",
              "      <th>6</th>\n",
              "      <td>59</td>\n",
              "      <td>0</td>\n",
              "      <td>Travel_Rarely</td>\n",
              "      <td>1324</td>\n",
              "      <td>Research &amp; Development</td>\n",
              "      <td>3</td>\n",
              "      <td>3</td>\n",
              "      <td>Medical</td>\n",
              "      <td>1</td>\n",
              "      <td>10</td>\n",
              "      <td>3</td>\n",
              "      <td>Female</td>\n",
              "      <td>81</td>\n",
              "      <td>4</td>\n",
              "      <td>1</td>\n",
              "      <td>Laboratory Technician</td>\n",
              "      <td>1</td>\n",
              "      <td>Married</td>\n",
              "      <td>2670</td>\n",
              "      <td>9964</td>\n",
              "      <td>4</td>\n",
              "      <td>Yes</td>\n",
              "      <td>20</td>\n",
              "      <td>4</td>\n",
              "      <td>1</td>\n",
              "      <td>3</td>\n",
              "      <td>12</td>\n",
              "      <td>3</td>\n",
              "      <td>2</td>\n",
              "      <td>1</td>\n",
              "      <td>0</td>\n",
              "      <td>0</td>\n",
              "      <td>0</td>\n",
              "      <td>6</td>\n",
              "    </tr>\n",
              "    <tr>\n",
              "      <th>7</th>\n",
              "      <td>30</td>\n",
              "      <td>0</td>\n",
              "      <td>Travel_Rarely</td>\n",
              "      <td>1358</td>\n",
              "      <td>Research &amp; Development</td>\n",
              "      <td>24</td>\n",
              "      <td>1</td>\n",
              "      <td>Life Sciences</td>\n",
              "      <td>1</td>\n",
              "      <td>11</td>\n",
              "      <td>4</td>\n",
              "      <td>Male</td>\n",
              "      <td>67</td>\n",
              "      <td>3</td>\n",
              "      <td>1</td>\n",
              "      <td>Laboratory Technician</td>\n",
              "      <td>3</td>\n",
              "      <td>Divorced</td>\n",
              "      <td>2693</td>\n",
              "      <td>13335</td>\n",
              "      <td>1</td>\n",
              "      <td>No</td>\n",
              "      <td>22</td>\n",
              "      <td>4</td>\n",
              "      <td>2</td>\n",
              "      <td>1</td>\n",
              "      <td>1</td>\n",
              "      <td>2</td>\n",
              "      <td>3</td>\n",
              "      <td>1</td>\n",
              "      <td>0</td>\n",
              "      <td>0</td>\n",
              "      <td>0</td>\n",
              "      <td>7</td>\n",
              "    </tr>\n",
              "    <tr>\n",
              "      <th>8</th>\n",
              "      <td>38</td>\n",
              "      <td>0</td>\n",
              "      <td>Travel_Frequently</td>\n",
              "      <td>216</td>\n",
              "      <td>Research &amp; Development</td>\n",
              "      <td>23</td>\n",
              "      <td>3</td>\n",
              "      <td>Life Sciences</td>\n",
              "      <td>1</td>\n",
              "      <td>12</td>\n",
              "      <td>4</td>\n",
              "      <td>Male</td>\n",
              "      <td>44</td>\n",
              "      <td>2</td>\n",
              "      <td>3</td>\n",
              "      <td>Manufacturing Director</td>\n",
              "      <td>3</td>\n",
              "      <td>Single</td>\n",
              "      <td>9526</td>\n",
              "      <td>8787</td>\n",
              "      <td>0</td>\n",
              "      <td>No</td>\n",
              "      <td>21</td>\n",
              "      <td>4</td>\n",
              "      <td>2</td>\n",
              "      <td>0</td>\n",
              "      <td>10</td>\n",
              "      <td>2</td>\n",
              "      <td>3</td>\n",
              "      <td>9</td>\n",
              "      <td>7</td>\n",
              "      <td>1</td>\n",
              "      <td>8</td>\n",
              "      <td>8</td>\n",
              "    </tr>\n",
              "    <tr>\n",
              "      <th>9</th>\n",
              "      <td>36</td>\n",
              "      <td>0</td>\n",
              "      <td>Travel_Rarely</td>\n",
              "      <td>1299</td>\n",
              "      <td>Research &amp; Development</td>\n",
              "      <td>27</td>\n",
              "      <td>3</td>\n",
              "      <td>Medical</td>\n",
              "      <td>1</td>\n",
              "      <td>13</td>\n",
              "      <td>3</td>\n",
              "      <td>Male</td>\n",
              "      <td>94</td>\n",
              "      <td>3</td>\n",
              "      <td>2</td>\n",
              "      <td>Healthcare Representative</td>\n",
              "      <td>3</td>\n",
              "      <td>Married</td>\n",
              "      <td>5237</td>\n",
              "      <td>16577</td>\n",
              "      <td>6</td>\n",
              "      <td>No</td>\n",
              "      <td>13</td>\n",
              "      <td>3</td>\n",
              "      <td>2</td>\n",
              "      <td>2</td>\n",
              "      <td>17</td>\n",
              "      <td>3</td>\n",
              "      <td>2</td>\n",
              "      <td>7</td>\n",
              "      <td>7</td>\n",
              "      <td>7</td>\n",
              "      <td>7</td>\n",
              "      <td>9</td>\n",
              "    </tr>\n",
              "  </tbody>\n",
              "</table>\n",
              "</div>"
            ],
            "text/plain": [
              "   Age  Attrition     BusinessTravel  DailyRate              Department  \\\n",
              "0   41          1      Travel_Rarely       1102                   Sales   \n",
              "1   49          0  Travel_Frequently        279  Research & Development   \n",
              "2   37          1      Travel_Rarely       1373  Research & Development   \n",
              "3   33          0  Travel_Frequently       1392  Research & Development   \n",
              "4   27          0      Travel_Rarely        591  Research & Development   \n",
              "5   32          0  Travel_Frequently       1005  Research & Development   \n",
              "6   59          0      Travel_Rarely       1324  Research & Development   \n",
              "7   30          0      Travel_Rarely       1358  Research & Development   \n",
              "8   38          0  Travel_Frequently        216  Research & Development   \n",
              "9   36          0      Travel_Rarely       1299  Research & Development   \n",
              "\n",
              "   DistanceFromHome  Education EducationField  EmployeeCount  EmployeeNumber  \\\n",
              "0                 1          2  Life Sciences              1               1   \n",
              "1                 8          1  Life Sciences              1               2   \n",
              "2                 2          2          Other              1               4   \n",
              "3                 3          4  Life Sciences              1               5   \n",
              "4                 2          1        Medical              1               7   \n",
              "5                 2          2  Life Sciences              1               8   \n",
              "6                 3          3        Medical              1              10   \n",
              "7                24          1  Life Sciences              1              11   \n",
              "8                23          3  Life Sciences              1              12   \n",
              "9                27          3        Medical              1              13   \n",
              "\n",
              "   EnvironmentSatisfaction  Gender  HourlyRate  JobInvolvement  JobLevel  \\\n",
              "0                        2  Female          94               3         2   \n",
              "1                        3    Male          61               2         2   \n",
              "2                        4    Male          92               2         1   \n",
              "3                        4  Female          56               3         1   \n",
              "4                        1    Male          40               3         1   \n",
              "5                        4    Male          79               3         1   \n",
              "6                        3  Female          81               4         1   \n",
              "7                        4    Male          67               3         1   \n",
              "8                        4    Male          44               2         3   \n",
              "9                        3    Male          94               3         2   \n",
              "\n",
              "                     JobRole  JobSatisfaction MaritalStatus  MonthlyIncome  \\\n",
              "0            Sales Executive                4        Single           5993   \n",
              "1         Research Scientist                2       Married           5130   \n",
              "2      Laboratory Technician                3        Single           2090   \n",
              "3         Research Scientist                3       Married           2909   \n",
              "4      Laboratory Technician                2       Married           3468   \n",
              "5      Laboratory Technician                4        Single           3068   \n",
              "6      Laboratory Technician                1       Married           2670   \n",
              "7      Laboratory Technician                3      Divorced           2693   \n",
              "8     Manufacturing Director                3        Single           9526   \n",
              "9  Healthcare Representative                3       Married           5237   \n",
              "\n",
              "   MonthlyRate  NumCompaniesWorked OverTime  PercentSalaryHike  \\\n",
              "0        19479                   8      Yes                 11   \n",
              "1        24907                   1       No                 23   \n",
              "2         2396                   6      Yes                 15   \n",
              "3        23159                   1      Yes                 11   \n",
              "4        16632                   9       No                 12   \n",
              "5        11864                   0       No                 13   \n",
              "6         9964                   4      Yes                 20   \n",
              "7        13335                   1       No                 22   \n",
              "8         8787                   0       No                 21   \n",
              "9        16577                   6       No                 13   \n",
              "\n",
              "   PerformanceRating  RelationshipSatisfaction  StockOptionLevel  \\\n",
              "0                  3                         1                 0   \n",
              "1                  4                         4                 1   \n",
              "2                  3                         2                 0   \n",
              "3                  3                         3                 0   \n",
              "4                  3                         4                 1   \n",
              "5                  3                         3                 0   \n",
              "6                  4                         1                 3   \n",
              "7                  4                         2                 1   \n",
              "8                  4                         2                 0   \n",
              "9                  3                         2                 2   \n",
              "\n",
              "   TotalWorkingYears  TrainingTimesLastYear  WorkLifeBalance  YearsAtCompany  \\\n",
              "0                  8                      0                1               6   \n",
              "1                 10                      3                3              10   \n",
              "2                  7                      3                3               0   \n",
              "3                  8                      3                3               8   \n",
              "4                  6                      3                3               2   \n",
              "5                  8                      2                2               7   \n",
              "6                 12                      3                2               1   \n",
              "7                  1                      2                3               1   \n",
              "8                 10                      2                3               9   \n",
              "9                 17                      3                2               7   \n",
              "\n",
              "   YearsInCurrentRole  YearsSinceLastPromotion  YearsWithCurrManager  ID  \n",
              "0                   4                        0                     5   0  \n",
              "1                   7                        1                     7   1  \n",
              "2                   0                        0                     0   2  \n",
              "3                   7                        3                     0   3  \n",
              "4                   2                        2                     2   4  \n",
              "5                   7                        3                     6   5  \n",
              "6                   0                        0                     0   6  \n",
              "7                   0                        0                     0   7  \n",
              "8                   7                        1                     8   8  \n",
              "9                   7                        7                     7   9  "
            ]
          },
          "metadata": {
            "tags": []
          },
          "execution_count": 97
        }
      ]
    },
    {
      "cell_type": "markdown",
      "metadata": {
        "id": "PSm-U7LEF5u_",
        "colab_type": "text"
      },
      "source": [
        "### Using the dataframe ```df```, perform the following: \n",
        "\n",
        "* Print the first five rows of the column ```MonthlyRate```. \n",
        "* Find out the details of the column ```MonthlyRate``` like mean, maximum value, minimum value, etc. "
      ]
    },
    {
      "cell_type": "code",
      "metadata": {
        "id": "QS5LttI-GT2f",
        "colab_type": "code",
        "outputId": "8b1badb6-9f37-439d-b297-8d1547e4bdf8",
        "colab": {
          "base_uri": "https://localhost:8080/",
          "height": 118
        }
      },
      "source": [
        "# Print the first five rows of MonthlyRate\n",
        "df.MonthlyRate.head()"
      ],
      "execution_count": 98,
      "outputs": [
        {
          "output_type": "execute_result",
          "data": {
            "text/plain": [
              "0    19479\n",
              "1    24907\n",
              "2     2396\n",
              "3    23159\n",
              "4    16632\n",
              "Name: MonthlyRate, dtype: int64"
            ]
          },
          "metadata": {
            "tags": []
          },
          "execution_count": 98
        }
      ]
    },
    {
      "cell_type": "code",
      "metadata": {
        "id": "EzQ1a1M0GURm",
        "colab_type": "code",
        "outputId": "9ccb137e-c3e7-4437-a6e8-943769386c6b",
        "colab": {
          "base_uri": "https://localhost:8080/",
          "height": 168
        }
      },
      "source": [
        "# Find the details of MonthlyRate \n",
        "df.MonthlyRate.describe()"
      ],
      "execution_count": 99,
      "outputs": [
        {
          "output_type": "execute_result",
          "data": {
            "text/plain": [
              "count     1028.000000\n",
              "mean     14243.531128\n",
              "std       7048.768076\n",
              "min       2094.000000\n",
              "25%       8259.750000\n",
              "50%      14074.500000\n",
              "75%      20342.250000\n",
              "max      26999.000000\n",
              "Name: MonthlyRate, dtype: float64"
            ]
          },
          "metadata": {
            "tags": []
          },
          "execution_count": 99
        }
      ]
    },
    {
      "cell_type": "markdown",
      "metadata": {
        "id": "3h-YOTvPQI48",
        "colab_type": "text"
      },
      "source": [
        "---\n",
        "## Part 2 - Cleaning and manipulating data \n",
        "---"
      ]
    },
    {
      "cell_type": "markdown",
      "metadata": {
        "id": "EtLzBibsQfXu",
        "colab_type": "text"
      },
      "source": [
        "### Using the dataframe ```df```, peform the following:\n",
        "\n",
        "* Check whether there are any missing values in ```df```. \n",
        "* If yes, drop those values and print the size of ```df``` after dropping these. "
      ]
    },
    {
      "cell_type": "code",
      "metadata": {
        "id": "XG-UK53fRDRZ",
        "colab_type": "code",
        "colab": {
          "base_uri": "https://localhost:8080/",
          "height": 50
        },
        "outputId": "ef2c2c10-02c9-4bd2-e527-582148e1b940"
      },
      "source": [
        "# Check for missing values \n",
        "# pd.set_option(\"display.max_rows\", None, \"display.max_columns\", None)\n",
        "count_NaN = df.isna().sum().sum()\n",
        "print(\"No. of NaN values = {}\".format(count_NaN))\n",
        "\n",
        "# Drop the missing values \n",
        "if count_NaN != 0:\n",
        "  df.dropna()\n",
        "\n",
        "# Print the size of df after dropping \n",
        "print(df.shape)\n"
      ],
      "execution_count": 100,
      "outputs": [
        {
          "output_type": "stream",
          "text": [
            "No. of NaN values = 0\n",
            "(1028, 34)\n"
          ],
          "name": "stdout"
        }
      ]
    },
    {
      "cell_type": "markdown",
      "metadata": {
        "id": "qtoGcl2XRWnS",
        "colab_type": "text"
      },
      "source": [
        "### Using the dataframe ```df```, peform the following:\n",
        "\n",
        "* Add another column named ```MonthRateNew``` in ```df``` by subtracting the mean from ```MonthlyRate``` and dividing it by standard deviation. "
      ]
    },
    {
      "cell_type": "code",
      "metadata": {
        "id": "zDMncSUKR12P",
        "colab_type": "code",
        "colab": {
          "base_uri": "https://localhost:8080/",
          "height": 366
        },
        "outputId": "bcba27ca-afd7-4c84-ed6b-6ddafa845ba9"
      },
      "source": [
        "# Add a column named MonthRateNew \n",
        "\n",
        "# pd.set_option(\"display.max_rows\", None, \"display.max_columns\", None)\n",
        "MonthRateNew = (df.MonthlyRate - df.MonthlyRate.mean()) / df.MonthlyRate.std()\n",
        "df.insert(19, 'MonthRateNew', MonthRateNew)\n",
        "df.head()\n",
        "movies.head()"
      ],
      "execution_count": 101,
      "outputs": [
        {
          "output_type": "execute_result",
          "data": {
            "text/html": [
              "<div>\n",
              "<style scoped>\n",
              "    .dataframe tbody tr th:only-of-type {\n",
              "        vertical-align: middle;\n",
              "    }\n",
              "\n",
              "    .dataframe tbody tr th {\n",
              "        vertical-align: top;\n",
              "    }\n",
              "\n",
              "    .dataframe thead th {\n",
              "        text-align: right;\n",
              "    }\n",
              "</style>\n",
              "<table border=\"1\" class=\"dataframe\">\n",
              "  <thead>\n",
              "    <tr style=\"text-align: right;\">\n",
              "      <th></th>\n",
              "      <th>Unnamed: 0</th>\n",
              "      <th>title</th>\n",
              "      <th>title_type</th>\n",
              "      <th>genre</th>\n",
              "      <th>runtime</th>\n",
              "      <th>mpaa_rating</th>\n",
              "      <th>studio</th>\n",
              "      <th>thtr_rel_year</th>\n",
              "      <th>thtr_rel_month</th>\n",
              "      <th>thtr_rel_day</th>\n",
              "      <th>dvd_rel_year</th>\n",
              "      <th>dvd_rel_month</th>\n",
              "      <th>dvd_rel_day</th>\n",
              "      <th>imdb_rating</th>\n",
              "      <th>imdb_num_votes</th>\n",
              "      <th>critics_rating</th>\n",
              "      <th>critics_score</th>\n",
              "      <th>audience_rating</th>\n",
              "      <th>audience_score</th>\n",
              "      <th>best_pic_nom</th>\n",
              "      <th>best_pic_win</th>\n",
              "      <th>best_actor_win</th>\n",
              "      <th>best_actress_win</th>\n",
              "      <th>best_dir_win</th>\n",
              "      <th>top200_box</th>\n",
              "      <th>director</th>\n",
              "      <th>actor1</th>\n",
              "      <th>actor2</th>\n",
              "      <th>actor3</th>\n",
              "      <th>actor4</th>\n",
              "      <th>actor5</th>\n",
              "    </tr>\n",
              "  </thead>\n",
              "  <tbody>\n",
              "    <tr>\n",
              "      <th>0</th>\n",
              "      <td>1</td>\n",
              "      <td>Filly Brown</td>\n",
              "      <td>Feature Film</td>\n",
              "      <td>Drama</td>\n",
              "      <td>80.0</td>\n",
              "      <td>R</td>\n",
              "      <td>Indomina Media Inc.</td>\n",
              "      <td>2013</td>\n",
              "      <td>4</td>\n",
              "      <td>19</td>\n",
              "      <td>2013.0</td>\n",
              "      <td>7.0</td>\n",
              "      <td>30.0</td>\n",
              "      <td>5.5</td>\n",
              "      <td>899</td>\n",
              "      <td>Rotten</td>\n",
              "      <td>45</td>\n",
              "      <td>Upright</td>\n",
              "      <td>73</td>\n",
              "      <td>no</td>\n",
              "      <td>no</td>\n",
              "      <td>no</td>\n",
              "      <td>no</td>\n",
              "      <td>no</td>\n",
              "      <td>no</td>\n",
              "      <td>Michael D. Olmos</td>\n",
              "      <td>Gina Rodriguez</td>\n",
              "      <td>Jenni Rivera</td>\n",
              "      <td>Lou Diamond Phillips</td>\n",
              "      <td>Emilio Rivera</td>\n",
              "      <td>Joseph Julian Soria</td>\n",
              "    </tr>\n",
              "    <tr>\n",
              "      <th>1</th>\n",
              "      <td>2</td>\n",
              "      <td>The Dish</td>\n",
              "      <td>Feature Film</td>\n",
              "      <td>Drama</td>\n",
              "      <td>101.0</td>\n",
              "      <td>PG-13</td>\n",
              "      <td>Warner Bros. Pictures</td>\n",
              "      <td>2001</td>\n",
              "      <td>3</td>\n",
              "      <td>14</td>\n",
              "      <td>2001.0</td>\n",
              "      <td>8.0</td>\n",
              "      <td>28.0</td>\n",
              "      <td>7.3</td>\n",
              "      <td>12285</td>\n",
              "      <td>Certified Fresh</td>\n",
              "      <td>96</td>\n",
              "      <td>Upright</td>\n",
              "      <td>81</td>\n",
              "      <td>no</td>\n",
              "      <td>no</td>\n",
              "      <td>no</td>\n",
              "      <td>no</td>\n",
              "      <td>no</td>\n",
              "      <td>no</td>\n",
              "      <td>Rob Sitch</td>\n",
              "      <td>Sam Neill</td>\n",
              "      <td>Kevin Harrington</td>\n",
              "      <td>Patrick Warburton</td>\n",
              "      <td>Tom Long</td>\n",
              "      <td>Genevieve Mooy</td>\n",
              "    </tr>\n",
              "    <tr>\n",
              "      <th>2</th>\n",
              "      <td>3</td>\n",
              "      <td>Waiting for Guffman</td>\n",
              "      <td>Feature Film</td>\n",
              "      <td>Comedy</td>\n",
              "      <td>84.0</td>\n",
              "      <td>R</td>\n",
              "      <td>Sony Pictures Classics</td>\n",
              "      <td>1996</td>\n",
              "      <td>8</td>\n",
              "      <td>21</td>\n",
              "      <td>2001.0</td>\n",
              "      <td>8.0</td>\n",
              "      <td>21.0</td>\n",
              "      <td>7.6</td>\n",
              "      <td>22381</td>\n",
              "      <td>Certified Fresh</td>\n",
              "      <td>91</td>\n",
              "      <td>Upright</td>\n",
              "      <td>91</td>\n",
              "      <td>no</td>\n",
              "      <td>no</td>\n",
              "      <td>no</td>\n",
              "      <td>no</td>\n",
              "      <td>no</td>\n",
              "      <td>no</td>\n",
              "      <td>Christopher Guest</td>\n",
              "      <td>Christopher Guest</td>\n",
              "      <td>Catherine O'Hara</td>\n",
              "      <td>Parker Posey</td>\n",
              "      <td>Eugene Levy</td>\n",
              "      <td>Bob Balaban</td>\n",
              "    </tr>\n",
              "    <tr>\n",
              "      <th>3</th>\n",
              "      <td>4</td>\n",
              "      <td>The Age of Innocence</td>\n",
              "      <td>Feature Film</td>\n",
              "      <td>Drama</td>\n",
              "      <td>139.0</td>\n",
              "      <td>PG</td>\n",
              "      <td>Columbia Pictures</td>\n",
              "      <td>1993</td>\n",
              "      <td>10</td>\n",
              "      <td>1</td>\n",
              "      <td>2001.0</td>\n",
              "      <td>11.0</td>\n",
              "      <td>6.0</td>\n",
              "      <td>7.2</td>\n",
              "      <td>35096</td>\n",
              "      <td>Certified Fresh</td>\n",
              "      <td>80</td>\n",
              "      <td>Upright</td>\n",
              "      <td>76</td>\n",
              "      <td>no</td>\n",
              "      <td>no</td>\n",
              "      <td>yes</td>\n",
              "      <td>no</td>\n",
              "      <td>yes</td>\n",
              "      <td>no</td>\n",
              "      <td>Martin Scorsese</td>\n",
              "      <td>Daniel Day-Lewis</td>\n",
              "      <td>Michelle Pfeiffer</td>\n",
              "      <td>Winona Ryder</td>\n",
              "      <td>Richard E. Grant</td>\n",
              "      <td>Alec McCowen</td>\n",
              "    </tr>\n",
              "    <tr>\n",
              "      <th>4</th>\n",
              "      <td>5</td>\n",
              "      <td>Malevolence</td>\n",
              "      <td>Feature Film</td>\n",
              "      <td>Horror</td>\n",
              "      <td>90.0</td>\n",
              "      <td>R</td>\n",
              "      <td>Anchor Bay Entertainment</td>\n",
              "      <td>2004</td>\n",
              "      <td>9</td>\n",
              "      <td>10</td>\n",
              "      <td>2005.0</td>\n",
              "      <td>4.0</td>\n",
              "      <td>19.0</td>\n",
              "      <td>5.1</td>\n",
              "      <td>2386</td>\n",
              "      <td>Rotten</td>\n",
              "      <td>33</td>\n",
              "      <td>Spilled</td>\n",
              "      <td>27</td>\n",
              "      <td>no</td>\n",
              "      <td>no</td>\n",
              "      <td>no</td>\n",
              "      <td>no</td>\n",
              "      <td>no</td>\n",
              "      <td>no</td>\n",
              "      <td>Stevan Mena</td>\n",
              "      <td>Samantha Dark</td>\n",
              "      <td>R. Brandon Johnson</td>\n",
              "      <td>Brandon Johnson</td>\n",
              "      <td>Heather Magee</td>\n",
              "      <td>Richard Glover</td>\n",
              "    </tr>\n",
              "  </tbody>\n",
              "</table>\n",
              "</div>"
            ],
            "text/plain": [
              "   Unnamed: 0                 title    title_type   genre  runtime  \\\n",
              "0           1           Filly Brown  Feature Film   Drama     80.0   \n",
              "1           2              The Dish  Feature Film   Drama    101.0   \n",
              "2           3   Waiting for Guffman  Feature Film  Comedy     84.0   \n",
              "3           4  The Age of Innocence  Feature Film   Drama    139.0   \n",
              "4           5           Malevolence  Feature Film  Horror     90.0   \n",
              "\n",
              "  mpaa_rating                    studio  thtr_rel_year  thtr_rel_month  \\\n",
              "0           R       Indomina Media Inc.           2013               4   \n",
              "1       PG-13     Warner Bros. Pictures           2001               3   \n",
              "2           R    Sony Pictures Classics           1996               8   \n",
              "3          PG         Columbia Pictures           1993              10   \n",
              "4           R  Anchor Bay Entertainment           2004               9   \n",
              "\n",
              "   thtr_rel_day  dvd_rel_year  dvd_rel_month  dvd_rel_day  imdb_rating  \\\n",
              "0            19        2013.0            7.0         30.0          5.5   \n",
              "1            14        2001.0            8.0         28.0          7.3   \n",
              "2            21        2001.0            8.0         21.0          7.6   \n",
              "3             1        2001.0           11.0          6.0          7.2   \n",
              "4            10        2005.0            4.0         19.0          5.1   \n",
              "\n",
              "   imdb_num_votes   critics_rating  critics_score audience_rating  \\\n",
              "0             899           Rotten             45         Upright   \n",
              "1           12285  Certified Fresh             96         Upright   \n",
              "2           22381  Certified Fresh             91         Upright   \n",
              "3           35096  Certified Fresh             80         Upright   \n",
              "4            2386           Rotten             33         Spilled   \n",
              "\n",
              "   audience_score best_pic_nom best_pic_win best_actor_win best_actress_win  \\\n",
              "0              73           no           no             no               no   \n",
              "1              81           no           no             no               no   \n",
              "2              91           no           no             no               no   \n",
              "3              76           no           no            yes               no   \n",
              "4              27           no           no             no               no   \n",
              "\n",
              "  best_dir_win top200_box           director             actor1  \\\n",
              "0           no         no   Michael D. Olmos     Gina Rodriguez   \n",
              "1           no         no          Rob Sitch          Sam Neill   \n",
              "2           no         no  Christopher Guest  Christopher Guest   \n",
              "3          yes         no    Martin Scorsese   Daniel Day-Lewis   \n",
              "4           no         no        Stevan Mena      Samantha Dark   \n",
              "\n",
              "               actor2                actor3            actor4  \\\n",
              "0        Jenni Rivera  Lou Diamond Phillips     Emilio Rivera   \n",
              "1    Kevin Harrington     Patrick Warburton          Tom Long   \n",
              "2    Catherine O'Hara          Parker Posey       Eugene Levy   \n",
              "3   Michelle Pfeiffer          Winona Ryder  Richard E. Grant   \n",
              "4  R. Brandon Johnson       Brandon Johnson     Heather Magee   \n",
              "\n",
              "                actor5  \n",
              "0  Joseph Julian Soria  \n",
              "1       Genevieve Mooy  \n",
              "2          Bob Balaban  \n",
              "3         Alec McCowen  \n",
              "4       Richard Glover  "
            ]
          },
          "metadata": {
            "tags": []
          },
          "execution_count": 101
        }
      ]
    },
    {
      "cell_type": "markdown",
      "metadata": {
        "id": "pcbN7jep13og",
        "colab_type": "text"
      },
      "source": [
        "### Using the dataframe ```movies```, perform the following: \n",
        "\n",
        "* Check whether there are any missing values in ```movies```. \n",
        "* Find out the number of observations/rows having any of their features/columns missing. \n",
        "* Drop the missing values and print the size of ```movies``` after dropping these. \n",
        "* Instead of dropping the missing values, replace the missing values by their mean (or some suitable value). \n"
      ]
    },
    {
      "cell_type": "code",
      "metadata": {
        "id": "DNszBx8A14ai",
        "colab_type": "code",
        "colab": {
          "base_uri": "https://localhost:8080/",
          "height": 588
        },
        "outputId": "dea3d4c3-d95f-4055-ef0b-2fa50f07c17a"
      },
      "source": [
        "# Check for missing values \n",
        "movies_NaN = movies.isna().sum().sum()\n",
        "row_missing = sum([True for idx,row in movies.iterrows() if any(row.isnull())])\n",
        "print(\"Number of missing values = {}\".format(movies_NaN))\n",
        "print(\"Number of rows with missing values = {}\".format(row_missing))\n",
        "# Drop the missing values \n",
        "\n",
        "# Replace the missing values \n",
        "# You can use SimpleImputer of sklearn for this\n",
        "from sklearn.impute import SimpleImputer\n",
        "imp = SimpleImputer(missing_values=np.nan, strategy ='mean')\n",
        "movies[\"runtime\"] = imp.fit_transform(movies[[\"runtime\"]]).ravel()\n",
        "print(movies.isna().sum())"
      ],
      "execution_count": 102,
      "outputs": [
        {
          "output_type": "stream",
          "text": [
            "Number of missing values = 73\n",
            "Number of rows with missing values = 28\n",
            "Unnamed: 0           0\n",
            "title                0\n",
            "title_type           0\n",
            "genre                0\n",
            "runtime              0\n",
            "mpaa_rating          0\n",
            "studio               5\n",
            "thtr_rel_year        0\n",
            "thtr_rel_month       0\n",
            "thtr_rel_day         0\n",
            "dvd_rel_year         7\n",
            "dvd_rel_month        7\n",
            "dvd_rel_day          7\n",
            "imdb_rating          0\n",
            "imdb_num_votes       0\n",
            "critics_rating       0\n",
            "critics_score        0\n",
            "audience_rating      0\n",
            "audience_score       0\n",
            "best_pic_nom         0\n",
            "best_pic_win         0\n",
            "best_actor_win       0\n",
            "best_actress_win     0\n",
            "best_dir_win         0\n",
            "top200_box           0\n",
            "director             2\n",
            "actor1               2\n",
            "actor2               7\n",
            "actor3               9\n",
            "actor4              12\n",
            "actor5              14\n",
            "dtype: int64\n"
          ],
          "name": "stdout"
        }
      ]
    },
    {
      "cell_type": "markdown",
      "metadata": {
        "id": "qDr11sjlBk_W",
        "colab_type": "text"
      },
      "source": [
        "---\n",
        "## Part 3 - Visualizing data \n",
        "---"
      ]
    },
    {
      "cell_type": "markdown",
      "metadata": {
        "id": "wC_w1zNCBw2G",
        "colab_type": "text"
      },
      "source": [
        "### Visualize the ```df``` by drawing the following plots:\n",
        "\n",
        "* Plot a histogram of ```Age``` and find the range in which most people are there. \n",
        "* Modify the histogram of ```Age``` by adding 30 bins. \n",
        "* Draw a scatter plot between ```Age``` and ```Attrition``` and suitable labels to the axes. Find out whether people more than 50 years are more likely to leave the company. (```Attrition``` = 1 means people have left the company). "
      ]
    },
    {
      "cell_type": "code",
      "metadata": {
        "id": "645EwAsoH63i",
        "colab_type": "code",
        "colab": {
          "base_uri": "https://localhost:8080/",
          "height": 312
        },
        "outputId": "acd59fba-f0d3-4a6e-f722-d4a63a7cea7f"
      },
      "source": [
        "# Plot and modify the histogram of Age\n",
        "plt.hist(df.Age, color =\"orange\")\n",
        "plt.hist(df.Age, bins=30, color = \"yellow\")\n",
        "plt.title(\"Distribution Age\")\n",
        "plt.xlabel(\"Age\")\n",
        "plt.ylabel(\"No. of people\")"
      ],
      "execution_count": 156,
      "outputs": [
        {
          "output_type": "execute_result",
          "data": {
            "text/plain": [
              "Text(0, 0.5, 'No. of people')"
            ]
          },
          "metadata": {
            "tags": []
          },
          "execution_count": 156
        },
        {
          "output_type": "display_data",
          "data": {
            "image/png": "[encoded data removed]",
            "text/plain": [
              "<Figure size 432x288 with 1 Axes>"
            ]
          },
          "metadata": {
            "tags": [],
            "needs_background": "light"
          }
        }
      ]
    },
    {
      "cell_type": "code",
      "metadata": {
        "id": "LgZjhtkSBEqX",
        "colab_type": "code",
        "colab": {
          "base_uri": "https://localhost:8080/",
          "height": 312
        },
        "outputId": "2c3f13ee-0f13-488b-a13e-533d59ffcfc3"
      },
      "source": [
        "# Draw a scatter plot between Age and Attrition\n",
        "plt.scatter(df.Age, df.Attrition, c='blue')\n",
        "plt.title('Scatter plot between Age and Attrition')\n",
        "plt.xlabel(\"Age\")\n",
        "plt.ylabel(\"Attrition\")\n",
        "plt.show()\n",
        "old = df[df['Age'] > 50]\n",
        "total_old = len(old)\n",
        "left_old = (old.Attrition == 1).sum()\n",
        "print(\"Probability of people greater than 50 leaving the company is = {}\".format(left_old/total_old))"
      ],
      "execution_count": 139,
      "outputs": [
        {
          "output_type": "display_data",
          "data": {
            "image/png": "[encoded data removed]",
            "text/plain": [
              "<Figure size 432x288 with 1 Axes>"
            ]
          },
          "metadata": {
            "tags": [],
            "needs_background": "light"
          }
        },
        {
          "output_type": "stream",
          "text": [
            "Probability of people greater than 50 leaving the company is = 0.1206896551724138\n"
          ],
          "name": "stdout"
        }
      ]
    },
    {
      "cell_type": "markdown",
      "metadata": {
        "id": "eez_pkZ-HDKP",
        "colab_type": "text"
      },
      "source": [
        "### Visualize the ```df``` by following the steps given below:\n",
        "\n",
        "* Get a series containing counts of unique values of ```Attrition```.\n",
        "* Draw a countplot for ```Attrition``` using ```sns.countplot()```. "
      ]
    },
    {
      "cell_type": "code",
      "metadata": {
        "id": "Tp8LnxLWIPfk",
        "colab_type": "code",
        "colab": {
          "base_uri": "https://localhost:8080/",
          "height": 346
        },
        "outputId": "dacb94c2-0abe-4352-c84f-e1c227380594"
      },
      "source": [
        "# Get a series of counts of values of Attrition\n",
        "count_attr = df['Attrition'].value_counts()\n",
        "print(count_attr)\n",
        "# Draw a countplot for Attrition \n",
        "# You may use countplot of seaborn for this \n",
        "sns.countplot(x=\"Attrition\", data=df)\n"
      ],
      "execution_count": 141,
      "outputs": [
        {
          "output_type": "stream",
          "text": [
            "0    856\n",
            "1    172\n",
            "Name: Attrition, dtype: int64\n"
          ],
          "name": "stdout"
        },
        {
          "output_type": "execute_result",
          "data": {
            "text/plain": [
              "<matplotlib.axes._subplots.AxesSubplot at 0x7f8c41325438>"
            ]
          },
          "metadata": {
            "tags": []
          },
          "execution_count": 141
        },
        {
          "output_type": "display_data",
          "data": {
            "image/png": "[encoded data removed]",
            "text/plain": [
              "<Figure size 432x288 with 1 Axes>"
            ]
          },
          "metadata": {
            "tags": [],
            "needs_background": "light"
          }
        }
      ]
    },
    {
      "cell_type": "markdown",
      "metadata": {
        "id": "Vi01m9MBHaJD",
        "colab_type": "text"
      },
      "source": [
        "### Visualize the ```df``` by following the steps given below:\n",
        "\n",
        "* Draw a cross tabulation of ```Attrition``` and ```BusinessTravel``` as bar charts. Find which value of ```BusinessTravel``` has highest number of people."
      ]
    },
    {
      "cell_type": "code",
      "metadata": {
        "id": "5OHAeOqeIQVM",
        "colab_type": "code",
        "colab": {
          "base_uri": "https://localhost:8080/",
          "height": 309
        },
        "outputId": "05fcf5ca-4fbe-4567-9ee4-84258ea5adfb"
      },
      "source": [
        "# Draw a cross tab of Attritiona and BusinessTravel \n",
        "# You may use crosstab of pandas for this \n",
        "ctab = pd.crosstab(df.Attrition, df.BusinessTravel)\n",
        "ctab.plot(kind='bar', stacked=True, color=['red','pink','purple'], grid=False)\n",
        "plt.title('Cross tabulation of Attrition and BusinessTravel')\n",
        "plt.ylabel(\"No. of people\")\n",
        "freq_BT = df['BusinessTravel'].value_counts().idxmax()\n",
        "print(\"The value of Business Travel with the highest number of people = {}\".format(freq_BT))"
      ],
      "execution_count": 150,
      "outputs": [
        {
          "output_type": "stream",
          "text": [
            "The value of Business Travel with the highest number of people = Travel_Rarely\n"
          ],
          "name": "stdout"
        },
        {
          "output_type": "display_data",
          "data": {
            "image/png": "[encoded data removed]",
            "text/plain": [
              "<Figure size 432x288 with 1 Axes>"
            ]
          },
          "metadata": {
            "tags": [],
            "needs_background": "light"
          }
        }
      ]
    },
    {
      "cell_type": "markdown",
      "metadata": {
        "id": "1FCc9ZkUHfqL",
        "colab_type": "text"
      },
      "source": [
        "### Visualize the ```df``` by drawing the following plot:\n",
        "\n",
        "* Draw a stacked bar chart between ```Attrition``` and ```Gender``` columns. "
      ]
    },
    {
      "cell_type": "code",
      "metadata": {
        "id": "58ELSAXBIQST",
        "colab_type": "code",
        "colab": {
          "base_uri": "https://localhost:8080/",
          "height": 309
        },
        "outputId": "a8d8cc1f-797b-44dd-eaf5-bbdc7b1da398"
      },
      "source": [
        "# Draw a stacked bar chart between Attrition and Gender \n",
        "ctab_ag = pd.crosstab(df.Attrition, df.Gender)\n",
        "ctab_ag.plot(kind='bar', stacked=True, color=['red','pink'], grid=False)\n",
        "plt.ylabel(\"No. of people\")\n",
        "plt.title('Stacked bar chart between Attrition and Gender')"
      ],
      "execution_count": 158,
      "outputs": [
        {
          "output_type": "execute_result",
          "data": {
            "text/plain": [
              "Text(0.5, 1.0, 'Stacked bar chart between Attrition and Gender')"
            ]
          },
          "metadata": {
            "tags": []
          },
          "execution_count": 158
        },
        {
          "output_type": "display_data",
          "data": {
            "image/png": "[encoded data removed]",
            "text/plain": [
              "<Figure size 432x288 with 1 Axes>"
            ]
          },
          "metadata": {
            "tags": [],
            "needs_background": "light"
          }
        }
      ]
    },
    {
      "cell_type": "markdown",
      "metadata": {
        "id": "vZzsi8_QLEdq",
        "colab_type": "text"
      },
      "source": [
        "### Visualize the ```df``` by drawing the following histogram:\n",
        "\n",
        "* Draw a histogram of ```TotalWorkingYears``` with 30 bins. \n",
        "* Draw a histogram of ```YearsAtCompany``` with 30 bins and find whether the values in ```YearsAtCompany``` are skewed. "
      ]
    },
    {
      "cell_type": "code",
      "metadata": {
        "id": "zvSlfj3FLUvV",
        "colab_type": "code",
        "colab": {
          "base_uri": "https://localhost:8080/",
          "height": 329
        },
        "outputId": "5a331cff-43a2-44a0-b247-56bc220d659a"
      },
      "source": [
        "# Draw a histogram of TotalWorkingYears with 30 bins\n",
        "plt.subplot(2,1,1)\n",
        "plt.hist(df.TotalWorkingYears, bins=30, color = \"orange\")\n",
        "plt.title('Histogram of total working years')\n",
        "plt.xlabel(\"No. of years\")\n",
        "plt.ylabel(\"No. of people\")\n",
        "# Draw a histogram of YearsAtCompany\n",
        "plt.subplot(2,1,2)\n",
        "plt.hist(df.TotalWorkingYears, bins=30, color = \"blue\")\n",
        "plt.title('Histogram of working years at the company')\n",
        "plt.xlabel(\"No. of years\")\n",
        "plt.ylabel(\"No. of people\")\n",
        "plt.subplots_adjust(hspace=0.7)\n",
        "skewness = df.YearsAtCompany.skew()\n",
        "print(\"Skewness = {}\".format(skewness))\n",
        "if skewness > 1 or skewness < -1:\n",
        "  print(\"Hence, the distribution is highly skewed\")\n",
        "elif (skewness>-1 and skewness<-0.5) or (skewness<1 and skewness>0.5):\n",
        "  print(\"Hence, the distribution is moderately skewed\")\n",
        "else:\n",
        "  print(\"Hence, the distribution is approximately symmetrical\")"
      ],
      "execution_count": 177,
      "outputs": [
        {
          "output_type": "stream",
          "text": [
            "Skewness = 1.7724925350968725\n",
            "Hence, the distribution is highly skewed\n"
          ],
          "name": "stdout"
        },
        {
          "output_type": "display_data",
          "data": {
            "image/png": "[encoded data removed]",
            "text/plain": [
              "<Figure size 432x288 with 2 Axes>"
            ]
          },
          "metadata": {
            "tags": [],
            "needs_background": "light"
          }
        }
      ]
    },
    {
      "cell_type": "markdown",
      "metadata": {
        "id": "oBcsFqz-Moja",
        "colab_type": "text"
      },
      "source": [
        "### Visualize the ```df``` by drawing the following boxplot:\n",
        "\n",
        "* Draw a boxplot of ```MonthlyIncome``` for each ```Department``` and report whether there is/are outlier(s). \n"
      ]
    },
    {
      "cell_type": "code",
      "metadata": {
        "id": "S6zsSE65NED9",
        "colab_type": "code",
        "colab": {
          "base_uri": "https://localhost:8080/",
          "height": 764
        },
        "outputId": "f368300d-a968-4bec-bcf7-bdbdc5ba566d"
      },
      "source": [
        "# Draw a boxplot of MonthlyIncome for each Department and report outliers \n",
        "plt.figure(figsize=(8,10))\n",
        "chart = sns.boxplot('MonthlyIncome', 'Department', data=df)\n",
        "chart.set_xticklabels(\n",
        "    chart.get_xticklabels(), \n",
        "    rotation=90, \n",
        "    horizontalalignment='right'\n",
        ")\n"
      ],
      "execution_count": 186,
      "outputs": [
        {
          "output_type": "execute_result",
          "data": {
            "text/plain": [
              "[Text(0, 0, ''),\n",
              " Text(0, 0, ''),\n",
              " Text(0, 0, ''),\n",
              " Text(0, 0, ''),\n",
              " Text(0, 0, ''),\n",
              " Text(0, 0, ''),\n",
              " Text(0, 0, ''),\n",
              " Text(0, 0, ''),\n",
              " Text(0, 0, ''),\n",
              " Text(0, 0, '')]"
            ]
          },
          "metadata": {
            "tags": []
          },
          "execution_count": 186
        },
        {
          "output_type": "display_data",
          "data": {
            "image/png": "[encoded data removed]",
            "text/plain": [
              "<Figure size 576x720 with 1 Axes>"
            ]
          },
          "metadata": {
            "tags": [],
            "needs_background": "light"
          }
        }
      ]
    },
    {
      "cell_type": "markdown",
      "metadata": {
        "id": "NRPgJjp-NX07",
        "colab_type": "text"
      },
      "source": [
        "### Visualize the ```df``` by drawing the following piechart:\n",
        "\n",
        "* Create a pie chart of the values in ```JobRole``` with suitable label and report which role has highest number of persons. "
      ]
    },
    {
      "cell_type": "code",
      "metadata": {
        "id": "5pr2HVVGNlaV",
        "colab_type": "code",
        "colab": {
          "base_uri": "https://localhost:8080/",
          "height": 712
        },
        "outputId": "a381d22d-9ad0-4c3b-8a94-5cf949e7e185"
      },
      "source": [
        "# Create a piechart of JobRole \n",
        "# You will need to find the counts of unique values in JobRole. \n",
        "role_count = df.JobRole.value_counts()\n",
        "plt.pie(role_count, labels=role_count.index.tolist(), autopct='%1.0f%%', pctdistance=1.15, labeldistance=1.3)\n",
        "\n"
      ],
      "execution_count": 192,
      "outputs": [
        {
          "output_type": "execute_result",
          "data": {
            "text/plain": [
              "([<matplotlib.patches.Wedge at 0x7f8c3d8d2828>,\n",
              "  <matplotlib.patches.Wedge at 0x7f8c3d8d2ba8>,\n",
              "  <matplotlib.patches.Wedge at 0x7f8c3cc56c50>,\n",
              "  <matplotlib.patches.Wedge at 0x7f8c3cc56080>,\n",
              "  <matplotlib.patches.Wedge at 0x7f8c3d907cf8>,\n",
              "  <matplotlib.patches.Wedge at 0x7f8c3d907c18>,\n",
              "  <matplotlib.patches.Wedge at 0x7f8c3d17d320>,\n",
              "  <matplotlib.patches.Wedge at 0x7f8c3d17dba8>,\n",
              "  <matplotlib.patches.Wedge at 0x7f8c3cf0d2b0>],\n",
              " [Text(1.0096227039142573, 0.8189395556088764, 'Sales Executive'),\n",
              "  Text(-0.542994557919514, 1.1811676045632948, 'Research Scientist'),\n",
              "  Text(-1.2978091562504166, -0.07544132788188411, 'Laboratory Technician'),\n",
              "  Text(-0.7686136078351997, -1.0484431896152304, 'Manufacturing Director'),\n",
              "  Text(-0.0675078477921267, -1.2982460053805192, 'Healthcare Representative'),\n",
              "  Text(0.5645600438495918, -1.171013218067391, 'Manager'),\n",
              "  Text(0.9944375427267106, -0.8373135455823354, 'Research Director'),\n",
              "  Text(1.2232525778613519, -0.4400603717168327, 'Sales Representative'),\n",
              "  Text(1.2952435932342046, -0.11110370914486514, 'Human Resources')],\n",
              " [Text(0.8931277765395351, 0.7244465299616983, '22%'),\n",
              "  Text(-0.48034133969803156, 1.0448790348059913, '20%'),\n",
              "  Text(-1.14806194591383, -0.06673655928012824, '18%'),\n",
              "  Text(-0.6799274223157535, -0.9274689754288575, '10%'),\n",
              "  Text(-0.059718480739188985, -1.1484483893750745, '8%'),\n",
              "  Text(0.49941850032848506, -1.0358963082903843, '8%'),\n",
              "  Text(0.879694749335167, -0.740700444168989, '6%'),\n",
              "  Text(1.0821080496465805, -0.38928417498027507, '6%'),\n",
              "  Text(1.1457924093994885, -0.0982840503973807, '3%')])"
            ]
          },
          "metadata": {
            "tags": []
          },
          "execution_count": 192
        },
        {
          "output_type": "display_data",
          "data": {
            "image/png": "[encoded data removed]",
            "text/plain": [
              "<Figure size 432x288 with 1 Axes>"
            ]
          },
          "metadata": {
            "tags": []
          }
        }
      ]
    }
  ]
}
